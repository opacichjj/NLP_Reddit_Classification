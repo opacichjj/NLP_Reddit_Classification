{
 "cells": [
  {
   "cell_type": "markdown",
   "metadata": {},
   "source": [
    "# ASOIAF/GoT Reddit Posts - Pt. 2"
   ]
  },
  {
   "cell_type": "markdown",
   "metadata": {},
   "source": [
    "># EDA"
   ]
  },
  {
   "cell_type": "markdown",
   "metadata": {},
   "source": [
    "### Import Libraries"
   ]
  },
  {
   "cell_type": "code",
   "execution_count": 1,
   "metadata": {},
   "outputs": [],
   "source": [
    "import pandas as pd\n",
    "import matplotlib.pyplot as plt\n",
    "import seaborn as sns\n",
    "import numpy as np\n",
    "\n",
    "%matplotlib inline"
   ]
  },
  {
   "cell_type": "markdown",
   "metadata": {},
   "source": [
    "### Load Data"
   ]
  },
  {
   "cell_type": "code",
   "execution_count": 2,
   "metadata": {},
   "outputs": [],
   "source": [
    "## loading in all of our data\n",
    "day_1 = pd.read_csv('./data/day_1_reddit_scraping_indexed.csv')\n",
    "day_2 = pd.read_csv('./data/day_2_reddit_scrapping.csv')\n",
    "day_3 = pd.read_csv('./data/day_3_reddit_scraping.csv')\n",
    "day_4 = pd.read_csv('./data/day_4_reddit_scraping.csv')\n",
    "day_5 = pd.read_csv('./data/day_5_reddit_scraping.csv')\n",
    "day_6 = pd.read_csv('./data/day_6_reddit_scraping.csv')\n",
    "day_7 = pd.read_csv('./data/day_7_reddit_scraping.csv')"
   ]
  },
  {
   "cell_type": "code",
   "execution_count": 3,
   "metadata": {},
   "outputs": [],
   "source": [
    "## concatenating all our datasets\n",
    "data = pd.concat([day_1, day_2, day_3, day_4, day_5, day_6, day_7], ignore_index=True)"
   ]
  },
  {
   "cell_type": "code",
   "execution_count": 4,
   "metadata": {},
   "outputs": [
    {
     "data": {
      "text/plain": [
       "(23771, 3)"
      ]
     },
     "execution_count": 4,
     "metadata": {},
     "output_type": "execute_result"
    }
   ],
   "source": [
    "## viewing the shape of our data, we'll need to drop our indexed column\n",
    "data.shape"
   ]
  },
  {
   "cell_type": "code",
   "execution_count": 5,
   "metadata": {},
   "outputs": [
    {
     "data": {
      "text/html": [
       "<div>\n",
       "<style scoped>\n",
       "    .dataframe tbody tr th:only-of-type {\n",
       "        vertical-align: middle;\n",
       "    }\n",
       "\n",
       "    .dataframe tbody tr th {\n",
       "        vertical-align: top;\n",
       "    }\n",
       "\n",
       "    .dataframe thead th {\n",
       "        text-align: right;\n",
       "    }\n",
       "</style>\n",
       "<table border=\"1\" class=\"dataframe\">\n",
       "  <thead>\n",
       "    <tr style=\"text-align: right;\">\n",
       "      <th></th>\n",
       "      <th>Unnamed: 0</th>\n",
       "      <th>post_text</th>\n",
       "      <th>subreddit</th>\n",
       "    </tr>\n",
       "  </thead>\n",
       "  <tbody>\n",
       "    <tr>\n",
       "      <th>0</th>\n",
       "      <td>0</td>\n",
       "      <td>Welcome to the Weekly Q &amp;amp; A! Feel free to ...</td>\n",
       "      <td>asoiaf</td>\n",
       "    </tr>\n",
       "    <tr>\n",
       "      <th>1</th>\n",
       "      <td>1</td>\n",
       "      <td>It's happened to all of us.\\n\\nYou come across...</td>\n",
       "      <td>asoiaf</td>\n",
       "    </tr>\n",
       "    <tr>\n",
       "      <th>2</th>\n",
       "      <td>2</td>\n",
       "      <td>Something thats always bothered me is Tywin's ...</td>\n",
       "      <td>asoiaf</td>\n",
       "    </tr>\n",
       "    <tr>\n",
       "      <th>3</th>\n",
       "      <td>3</td>\n",
       "      <td>Apologies if this has been posted before.\\n\\nI...</td>\n",
       "      <td>asoiaf</td>\n",
       "    </tr>\n",
       "    <tr>\n",
       "      <th>4</th>\n",
       "      <td>4</td>\n",
       "      <td>One of the things I was sorry not to get more ...</td>\n",
       "      <td>asoiaf</td>\n",
       "    </tr>\n",
       "  </tbody>\n",
       "</table>\n",
       "</div>"
      ],
      "text/plain": [
       "   Unnamed: 0                                          post_text subreddit\n",
       "0           0  Welcome to the Weekly Q &amp; A! Feel free to ...    asoiaf\n",
       "1           1  It's happened to all of us.\\n\\nYou come across...    asoiaf\n",
       "2           2  Something thats always bothered me is Tywin's ...    asoiaf\n",
       "3           3  Apologies if this has been posted before.\\n\\nI...    asoiaf\n",
       "4           4  One of the things I was sorry not to get more ...    asoiaf"
      ]
     },
     "execution_count": 5,
     "metadata": {},
     "output_type": "execute_result"
    }
   ],
   "source": [
    "## looking at our initial data\n",
    "data.head()"
   ]
  },
  {
   "cell_type": "code",
   "execution_count": 6,
   "metadata": {},
   "outputs": [],
   "source": [
    "## getting rid of the \"unnamed\" column\n",
    "data.drop(\"Unnamed: 0\", axis=1, inplace = True)"
   ]
  },
  {
   "cell_type": "code",
   "execution_count": 7,
   "metadata": {},
   "outputs": [],
   "source": [
    "## locating the duplicate text in our posts\n",
    "data = data.loc[pd.DataFrame.duplicated(data) == False]"
   ]
  },
  {
   "cell_type": "code",
   "execution_count": 8,
   "metadata": {},
   "outputs": [
    {
     "data": {
      "text/plain": [
       "False    1542\n",
       "dtype: int64"
      ]
     },
     "execution_count": 8,
     "metadata": {},
     "output_type": "execute_result"
    }
   ],
   "source": [
    "## verifying that there is no more duplicates\n",
    "pd.DataFrame.duplicated(data).value_counts()"
   ]
  },
  {
   "cell_type": "code",
   "execution_count": 9,
   "metadata": {},
   "outputs": [
    {
     "data": {
      "text/html": [
       "<div>\n",
       "<style scoped>\n",
       "    .dataframe tbody tr th:only-of-type {\n",
       "        vertical-align: middle;\n",
       "    }\n",
       "\n",
       "    .dataframe tbody tr th {\n",
       "        vertical-align: top;\n",
       "    }\n",
       "\n",
       "    .dataframe thead th {\n",
       "        text-align: right;\n",
       "    }\n",
       "</style>\n",
       "<table border=\"1\" class=\"dataframe\">\n",
       "  <thead>\n",
       "    <tr style=\"text-align: right;\">\n",
       "      <th></th>\n",
       "      <th>post_text</th>\n",
       "      <th>subreddit</th>\n",
       "    </tr>\n",
       "  </thead>\n",
       "  <tbody>\n",
       "    <tr>\n",
       "      <th>0</th>\n",
       "      <td>Welcome to the Weekly Q &amp;amp; A! Feel free to ...</td>\n",
       "      <td>asoiaf</td>\n",
       "    </tr>\n",
       "    <tr>\n",
       "      <th>1</th>\n",
       "      <td>It's happened to all of us.\\n\\nYou come across...</td>\n",
       "      <td>asoiaf</td>\n",
       "    </tr>\n",
       "    <tr>\n",
       "      <th>2</th>\n",
       "      <td>Something thats always bothered me is Tywin's ...</td>\n",
       "      <td>asoiaf</td>\n",
       "    </tr>\n",
       "    <tr>\n",
       "      <th>3</th>\n",
       "      <td>Apologies if this has been posted before.\\n\\nI...</td>\n",
       "      <td>asoiaf</td>\n",
       "    </tr>\n",
       "    <tr>\n",
       "      <th>4</th>\n",
       "      <td>One of the things I was sorry not to get more ...</td>\n",
       "      <td>asoiaf</td>\n",
       "    </tr>\n",
       "  </tbody>\n",
       "</table>\n",
       "</div>"
      ],
      "text/plain": [
       "                                           post_text subreddit\n",
       "0  Welcome to the Weekly Q &amp; A! Feel free to ...    asoiaf\n",
       "1  It's happened to all of us.\\n\\nYou come across...    asoiaf\n",
       "2  Something thats always bothered me is Tywin's ...    asoiaf\n",
       "3  Apologies if this has been posted before.\\n\\nI...    asoiaf\n",
       "4  One of the things I was sorry not to get more ...    asoiaf"
      ]
     },
     "execution_count": 9,
     "metadata": {},
     "output_type": "execute_result"
    }
   ],
   "source": [
    "## showing corrected header\n",
    "data.head()"
   ]
  },
  {
   "cell_type": "code",
   "execution_count": 10,
   "metadata": {},
   "outputs": [
    {
     "data": {
      "text/plain": [
       "asoiaf           939\n",
       "gameofthrones    603\n",
       "Name: subreddit, dtype: int64"
      ]
     },
     "execution_count": 10,
     "metadata": {},
     "output_type": "execute_result"
    }
   ],
   "source": [
    "## checking our value counts\n",
    "data.subreddit.value_counts()"
   ]
  },
  {
   "cell_type": "markdown",
   "metadata": {},
   "source": [
    "### Pre-processing"
   ]
  },
  {
   "cell_type": "code",
   "execution_count": 11,
   "metadata": {},
   "outputs": [
    {
     "data": {
      "text/plain": [
       "0"
      ]
     },
     "execution_count": 11,
     "metadata": {},
     "output_type": "execute_result"
    }
   ],
   "source": [
    "## no null values\n",
    "data.isnull().sum().sum()"
   ]
  },
  {
   "cell_type": "code",
   "execution_count": 12,
   "metadata": {},
   "outputs": [
    {
     "data": {
      "text/plain": [
       "(1542, 2)"
      ]
     },
     "execution_count": 12,
     "metadata": {},
     "output_type": "execute_result"
    }
   ],
   "source": [
    "## viewing the shape of our data\n",
    "data.shape"
   ]
  },
  {
   "cell_type": "code",
   "execution_count": 13,
   "metadata": {},
   "outputs": [
    {
     "data": {
      "text/html": [
       "<div>\n",
       "<style scoped>\n",
       "    .dataframe tbody tr th:only-of-type {\n",
       "        vertical-align: middle;\n",
       "    }\n",
       "\n",
       "    .dataframe tbody tr th {\n",
       "        vertical-align: top;\n",
       "    }\n",
       "\n",
       "    .dataframe thead th {\n",
       "        text-align: right;\n",
       "    }\n",
       "</style>\n",
       "<table border=\"1\" class=\"dataframe\">\n",
       "  <thead>\n",
       "    <tr style=\"text-align: right;\">\n",
       "      <th></th>\n",
       "      <th>post_text</th>\n",
       "      <th>subreddit</th>\n",
       "    </tr>\n",
       "  </thead>\n",
       "  <tbody>\n",
       "    <tr>\n",
       "      <th>count</th>\n",
       "      <td>1542</td>\n",
       "      <td>1542</td>\n",
       "    </tr>\n",
       "    <tr>\n",
       "      <th>unique</th>\n",
       "      <td>1534</td>\n",
       "      <td>2</td>\n",
       "    </tr>\n",
       "    <tr>\n",
       "      <th>top</th>\n",
       "      <td>Remember one year ago, back in May 2018, [Emil...</td>\n",
       "      <td>asoiaf</td>\n",
       "    </tr>\n",
       "    <tr>\n",
       "      <th>freq</th>\n",
       "      <td>2</td>\n",
       "      <td>939</td>\n",
       "    </tr>\n",
       "  </tbody>\n",
       "</table>\n",
       "</div>"
      ],
      "text/plain": [
       "                                                post_text subreddit\n",
       "count                                                1542      1542\n",
       "unique                                               1534         2\n",
       "top     Remember one year ago, back in May 2018, [Emil...    asoiaf\n",
       "freq                                                    2       939"
      ]
     },
     "execution_count": 13,
     "metadata": {},
     "output_type": "execute_result"
    }
   ],
   "source": [
    "data.describe()"
   ]
  },
  {
   "cell_type": "markdown",
   "metadata": {},
   "source": [
    "### Attempt at Visualizing with Spacy / Scattertext"
   ]
  },
  {
   "cell_type": "code",
   "execution_count": 14,
   "metadata": {},
   "outputs": [
    {
     "data": {
      "text/html": [
       "&lt;style>.container { width:98% !important; }&lt;/style>"
      ],
      "text/plain": [
       "<IPython.core.display.HTML object>"
      ]
     },
     "metadata": {},
     "output_type": "display_data"
    }
   ],
   "source": [
    "import scattertext as st\n",
    "import re, io\n",
    "from pprint import pprint\n",
    "from scipy.stats import rankdata, hmean, norm\n",
    "import spacy\n",
    "import os, pkgutil, json, urllib\n",
    "from urllib.request import urlopen\n",
    "from IPython.display import IFrame\n",
    "from IPython.core.display import display, HTML\n",
    "display(HTML(\"&lt;style>.container { width:98% !important; }&lt;/style>\"))\n",
    "\n",
    "from spacy.lang.en import English\n",
    "from spacy.lang.en.stop_words import STOP_WORDS\n",
    "\n",
    "from scattertext import CorpusFromPandas, produce_scattertext_explorer"
   ]
  },
  {
   "cell_type": "code",
   "execution_count": 15,
   "metadata": {},
   "outputs": [],
   "source": [
    "## loading in spaCy\n",
    "nlp = spacy.load('en_core_web_sm')"
   ]
  },
  {
   "cell_type": "code",
   "execution_count": 16,
   "metadata": {},
   "outputs": [],
   "source": [
    "## creating our parsed/tokenized text\n",
    "data['parsed_post'] = data['post_text'].apply(nlp)"
   ]
  },
  {
   "cell_type": "code",
   "execution_count": 17,
   "metadata": {},
   "outputs": [
    {
     "data": {
      "text/html": [
       "<div>\n",
       "<style scoped>\n",
       "    .dataframe tbody tr th:only-of-type {\n",
       "        vertical-align: middle;\n",
       "    }\n",
       "\n",
       "    .dataframe tbody tr th {\n",
       "        vertical-align: top;\n",
       "    }\n",
       "\n",
       "    .dataframe thead th {\n",
       "        text-align: right;\n",
       "    }\n",
       "</style>\n",
       "<table border=\"1\" class=\"dataframe\">\n",
       "  <thead>\n",
       "    <tr style=\"text-align: right;\">\n",
       "      <th></th>\n",
       "      <th>post_text</th>\n",
       "      <th>subreddit</th>\n",
       "      <th>parsed_post</th>\n",
       "    </tr>\n",
       "  </thead>\n",
       "  <tbody>\n",
       "    <tr>\n",
       "      <th>0</th>\n",
       "      <td>Welcome to the Weekly Q &amp;amp; A! Feel free to ...</td>\n",
       "      <td>asoiaf</td>\n",
       "      <td>(Welcome, to, the, Weekly, Q, &amp;, amp, ;, A, !,...</td>\n",
       "    </tr>\n",
       "    <tr>\n",
       "      <th>1</th>\n",
       "      <td>It's happened to all of us.\\n\\nYou come across...</td>\n",
       "      <td>asoiaf</td>\n",
       "      <td>(It, 's, happened, to, all, of, us, ., \\n\\n, Y...</td>\n",
       "    </tr>\n",
       "    <tr>\n",
       "      <th>2</th>\n",
       "      <td>Something thats always bothered me is Tywin's ...</td>\n",
       "      <td>asoiaf</td>\n",
       "      <td>(Something, that, s, always, bothered, me, is,...</td>\n",
       "    </tr>\n",
       "    <tr>\n",
       "      <th>3</th>\n",
       "      <td>Apologies if this has been posted before.\\n\\nI...</td>\n",
       "      <td>asoiaf</td>\n",
       "      <td>(Apologies, if, this, has, been, posted, befor...</td>\n",
       "    </tr>\n",
       "    <tr>\n",
       "      <th>4</th>\n",
       "      <td>One of the things I was sorry not to get more ...</td>\n",
       "      <td>asoiaf</td>\n",
       "      <td>(One, of, the, things, I, was, sorry, not, to,...</td>\n",
       "    </tr>\n",
       "  </tbody>\n",
       "</table>\n",
       "</div>"
      ],
      "text/plain": [
       "                                           post_text subreddit  \\\n",
       "0  Welcome to the Weekly Q &amp; A! Feel free to ...    asoiaf   \n",
       "1  It's happened to all of us.\\n\\nYou come across...    asoiaf   \n",
       "2  Something thats always bothered me is Tywin's ...    asoiaf   \n",
       "3  Apologies if this has been posted before.\\n\\nI...    asoiaf   \n",
       "4  One of the things I was sorry not to get more ...    asoiaf   \n",
       "\n",
       "                                         parsed_post  \n",
       "0  (Welcome, to, the, Weekly, Q, &, amp, ;, A, !,...  \n",
       "1  (It, 's, happened, to, all, of, us, ., \\n\\n, Y...  \n",
       "2  (Something, that, s, always, bothered, me, is,...  \n",
       "3  (Apologies, if, this, has, been, posted, befor...  \n",
       "4  (One, of, the, things, I, was, sorry, not, to,...  "
      ]
     },
     "execution_count": 17,
     "metadata": {},
     "output_type": "execute_result"
    }
   ],
   "source": [
    "## showing new column\n",
    "data.head()"
   ]
  },
  {
   "cell_type": "code",
   "execution_count": 18,
   "metadata": {},
   "outputs": [
    {
     "name": "stdout",
     "output_type": "stream",
     "text": [
      "Number of stop words: 305\n",
      "First ten stop words: ['again', 'itself', 'forty', 'never', 'mostly', 'becomes', 'whither', 'does', 'must', 'above']\n"
     ]
    }
   ],
   "source": [
    "## loading spacy stop_words\n",
    "spacy_stopwords = spacy.lang.en.stop_words.STOP_WORDS\n",
    "print('Number of stop words: %d' % len(spacy_stopwords))\n",
    "print('First ten stop words: %s' % list(spacy_stopwords)[:10])"
   ]
  },
  {
   "cell_type": "code",
   "execution_count": 20,
   "metadata": {},
   "outputs": [],
   "source": [
    "## creating a corpus to use for our scattertext plot\n",
    "corpus = st.CorpusFromPandas(data, category_col='subreddit', text_col='post_text', nlp=nlp).build()"
   ]
  },
  {
   "cell_type": "code",
   "execution_count": 21,
   "metadata": {},
   "outputs": [
    {
     "data": {
      "text/plain": [
       "['daenerys',\n",
       " 'tyrion',\n",
       " 'dany',\n",
       " 'cersei',\n",
       " 'westeros',\n",
       " 'grrm',\n",
       " 'sansa',\n",
       " 'arya',\n",
       " 'stannis',\n",
       " 'targaryen']"
      ]
     },
     "execution_count": 21,
     "metadata": {},
     "output_type": "execute_result"
    }
   ],
   "source": [
    "## The most frequent terms in our corpus\n",
    "list(corpus.get_scaled_f_scores_vs_background().index[:10])"
   ]
  },
  {
   "cell_type": "code",
   "execution_count": 22,
   "metadata": {},
   "outputs": [
    {
     "data": {
      "text/html": [
       "<div>\n",
       "<style scoped>\n",
       "    .dataframe tbody tr th:only-of-type {\n",
       "        vertical-align: middle;\n",
       "    }\n",
       "\n",
       "    .dataframe tbody tr th {\n",
       "        vertical-align: top;\n",
       "    }\n",
       "\n",
       "    .dataframe thead th {\n",
       "        text-align: right;\n",
       "    }\n",
       "</style>\n",
       "<table border=\"1\" class=\"dataframe\">\n",
       "  <thead>\n",
       "    <tr style=\"text-align: right;\">\n",
       "      <th></th>\n",
       "      <th>asoiaf freq</th>\n",
       "      <th>gameofthrones freq</th>\n",
       "      <th>asoiaf_scaled</th>\n",
       "      <th>got_scaled</th>\n",
       "    </tr>\n",
       "    <tr>\n",
       "      <th>term</th>\n",
       "      <th></th>\n",
       "      <th></th>\n",
       "      <th></th>\n",
       "      <th></th>\n",
       "    </tr>\n",
       "  </thead>\n",
       "  <tbody>\n",
       "    <tr>\n",
       "      <th>gt &amp;</th>\n",
       "      <td>248</td>\n",
       "      <td>0</td>\n",
       "      <td>1.000000</td>\n",
       "      <td>0.000000</td>\n",
       "    </tr>\n",
       "    <tr>\n",
       "      <th>gt</th>\n",
       "      <td>512</td>\n",
       "      <td>1</td>\n",
       "      <td>0.999463</td>\n",
       "      <td>0.000537</td>\n",
       "    </tr>\n",
       "    <tr>\n",
       "      <th>&amp; gt</th>\n",
       "      <td>509</td>\n",
       "      <td>1</td>\n",
       "      <td>0.999460</td>\n",
       "      <td>0.000540</td>\n",
       "    </tr>\n",
       "    <tr>\n",
       "      <th>_ _</th>\n",
       "      <td>2765</td>\n",
       "      <td>112</td>\n",
       "      <td>0.987778</td>\n",
       "      <td>0.012222</td>\n",
       "    </tr>\n",
       "    <tr>\n",
       "      <th>_</th>\n",
       "      <td>2952</td>\n",
       "      <td>122</td>\n",
       "      <td>0.987524</td>\n",
       "      <td>0.012476</td>\n",
       "    </tr>\n",
       "    <tr>\n",
       "      <th>aegon</th>\n",
       "      <td>199</td>\n",
       "      <td>8</td>\n",
       "      <td>0.987126</td>\n",
       "      <td>0.012874</td>\n",
       "    </tr>\n",
       "    <tr>\n",
       "      <th>asoiaf</th>\n",
       "      <td>208</td>\n",
       "      <td>9</td>\n",
       "      <td>0.986467</td>\n",
       "      <td>0.013533</td>\n",
       "    </tr>\n",
       "    <tr>\n",
       "      <th>adwd</th>\n",
       "      <td>139</td>\n",
       "      <td>1</td>\n",
       "      <td>0.985323</td>\n",
       "      <td>0.014677</td>\n",
       "    </tr>\n",
       "    <tr>\n",
       "      <th>%</th>\n",
       "      <td>160</td>\n",
       "      <td>7</td>\n",
       "      <td>0.981706</td>\n",
       "      <td>0.018294</td>\n",
       "    </tr>\n",
       "    <tr>\n",
       "      <th>stannis</th>\n",
       "      <td>262</td>\n",
       "      <td>17</td>\n",
       "      <td>0.980129</td>\n",
       "      <td>0.019871</td>\n",
       "    </tr>\n",
       "  </tbody>\n",
       "</table>\n",
       "</div>"
      ],
      "text/plain": [
       "         asoiaf freq  gameofthrones freq  asoiaf_scaled  got_scaled\n",
       "term                                                               \n",
       "gt &             248                   0       1.000000    0.000000\n",
       "gt               512                   1       0.999463    0.000537\n",
       "& gt             509                   1       0.999460    0.000540\n",
       "_ _             2765                 112       0.987778    0.012222\n",
       "_               2952                 122       0.987524    0.012476\n",
       "aegon            199                   8       0.987126    0.012874\n",
       "asoiaf           208                   9       0.986467    0.013533\n",
       "adwd             139                   1       0.985323    0.014677\n",
       "%                160                   7       0.981706    0.018294\n",
       "stannis          262                  17       0.980129    0.019871"
      ]
     },
     "execution_count": 22,
     "metadata": {},
     "output_type": "execute_result"
    }
   ],
   "source": [
    "## turning our scattertext corpus into a dataframe\n",
    "term_freq_df = corpus.get_term_freq_df() \n",
    "\n",
    "## creating scaled scores for 'asoiaf'\n",
    "term_freq_df['asoiaf_scaled'] = corpus.get_scaled_f_scores(category='asoiaf') \n",
    "\n",
    "## creating scaled scores for 'got'\n",
    "term_freq_df['got_scaled'] = corpus.get_scaled_f_scores(category='gameofthrones') \n",
    "\n",
    "## showing the top scaled 'asoiaf' values\n",
    "term_freq_df.sort_values(by='asoiaf_scaled', ascending=False).head(10)"
   ]
  },
  {
   "cell_type": "code",
   "execution_count": 23,
   "metadata": {},
   "outputs": [],
   "source": [
    "## creating a column of scaled value differences\n",
    "term_freq_df['scaled_diff'] = abs(term_freq_df[\"asoiaf_scaled\"].add(-term_freq_df[\"got_scaled\"]))"
   ]
  },
  {
   "cell_type": "code",
   "execution_count": 24,
   "metadata": {},
   "outputs": [
    {
     "data": {
      "text/plain": [
       "(153198, 5)"
      ]
     },
     "execution_count": 24,
     "metadata": {},
     "output_type": "execute_result"
    }
   ],
   "source": [
    "## separating out our values that occur frequently in both subreddit\n",
    "stop_phrases = term_freq_df[term_freq_df['scaled_diff'] <= 0.1]\n",
    "stop_phrases.shape"
   ]
  },
  {
   "cell_type": "code",
   "execution_count": 25,
   "metadata": {},
   "outputs": [
    {
     "data": {
      "text/html": [
       "<div>\n",
       "<style scoped>\n",
       "    .dataframe tbody tr th:only-of-type {\n",
       "        vertical-align: middle;\n",
       "    }\n",
       "\n",
       "    .dataframe tbody tr th {\n",
       "        vertical-align: top;\n",
       "    }\n",
       "\n",
       "    .dataframe thead th {\n",
       "        text-align: right;\n",
       "    }\n",
       "</style>\n",
       "<table border=\"1\" class=\"dataframe\">\n",
       "  <thead>\n",
       "    <tr style=\"text-align: right;\">\n",
       "      <th></th>\n",
       "      <th>asoiaf freq</th>\n",
       "      <th>gameofthrones freq</th>\n",
       "      <th>asoiaf_scaled</th>\n",
       "      <th>got_scaled</th>\n",
       "      <th>scaled_diff</th>\n",
       "    </tr>\n",
       "    <tr>\n",
       "      <th>term</th>\n",
       "      <th></th>\n",
       "      <th></th>\n",
       "      <th></th>\n",
       "      <th></th>\n",
       "      <th></th>\n",
       "    </tr>\n",
       "  </thead>\n",
       "  <tbody>\n",
       "    <tr>\n",
       "      <th>welcome</th>\n",
       "      <td>10</td>\n",
       "      <td>3</td>\n",
       "      <td>0.545105</td>\n",
       "      <td>0.454895</td>\n",
       "      <td>0.090211</td>\n",
       "    </tr>\n",
       "    <tr>\n",
       "      <th>q</th>\n",
       "      <td>4</td>\n",
       "      <td>0</td>\n",
       "      <td>0.544458</td>\n",
       "      <td>0.455542</td>\n",
       "      <td>0.088916</td>\n",
       "    </tr>\n",
       "    <tr>\n",
       "      <th>welcome to</th>\n",
       "      <td>3</td>\n",
       "      <td>0</td>\n",
       "      <td>0.537795</td>\n",
       "      <td>0.462205</td>\n",
       "      <td>0.075590</td>\n",
       "    </tr>\n",
       "    <tr>\n",
       "      <th>the weekly</th>\n",
       "      <td>2</td>\n",
       "      <td>0</td>\n",
       "      <td>0.531108</td>\n",
       "      <td>0.468892</td>\n",
       "      <td>0.062217</td>\n",
       "    </tr>\n",
       "    <tr>\n",
       "      <th>weekly q</th>\n",
       "      <td>2</td>\n",
       "      <td>0</td>\n",
       "      <td>0.531108</td>\n",
       "      <td>0.468892</td>\n",
       "      <td>0.062217</td>\n",
       "    </tr>\n",
       "  </tbody>\n",
       "</table>\n",
       "</div>"
      ],
      "text/plain": [
       "            asoiaf freq  gameofthrones freq  asoiaf_scaled  got_scaled  \\\n",
       "term                                                                     \n",
       "welcome              10                   3       0.545105    0.454895   \n",
       "q                     4                   0       0.544458    0.455542   \n",
       "welcome to            3                   0       0.537795    0.462205   \n",
       "the weekly            2                   0       0.531108    0.468892   \n",
       "weekly q              2                   0       0.531108    0.468892   \n",
       "\n",
       "            scaled_diff  \n",
       "term                     \n",
       "welcome        0.090211  \n",
       "q              0.088916  \n",
       "welcome to     0.075590  \n",
       "the weekly     0.062217  \n",
       "weekly q       0.062217  "
      ]
     },
     "execution_count": 25,
     "metadata": {},
     "output_type": "execute_result"
    }
   ],
   "source": [
    "stop_phrases.head()"
   ]
  },
  {
   "cell_type": "code",
   "execution_count": 26,
   "metadata": {},
   "outputs": [
    {
     "data": {
      "text/html": [
       "<div>\n",
       "<style scoped>\n",
       "    .dataframe tbody tr th:only-of-type {\n",
       "        vertical-align: middle;\n",
       "    }\n",
       "\n",
       "    .dataframe tbody tr th {\n",
       "        vertical-align: top;\n",
       "    }\n",
       "\n",
       "    .dataframe thead th {\n",
       "        text-align: right;\n",
       "    }\n",
       "</style>\n",
       "<table border=\"1\" class=\"dataframe\">\n",
       "  <thead>\n",
       "    <tr style=\"text-align: right;\">\n",
       "      <th></th>\n",
       "    </tr>\n",
       "    <tr>\n",
       "      <th>term</th>\n",
       "    </tr>\n",
       "  </thead>\n",
       "  <tbody>\n",
       "    <tr>\n",
       "      <th>welcome</th>\n",
       "    </tr>\n",
       "    <tr>\n",
       "      <th>q</th>\n",
       "    </tr>\n",
       "    <tr>\n",
       "      <th>welcome to</th>\n",
       "    </tr>\n",
       "    <tr>\n",
       "      <th>the weekly</th>\n",
       "    </tr>\n",
       "    <tr>\n",
       "      <th>weekly q</th>\n",
       "    </tr>\n",
       "  </tbody>\n",
       "</table>\n",
       "</div>"
      ],
      "text/plain": [
       "Empty DataFrame\n",
       "Columns: []\n",
       "Index: [welcome, q, welcome to, the weekly, weekly q]"
      ]
     },
     "execution_count": 26,
     "metadata": {},
     "output_type": "execute_result"
    }
   ],
   "source": [
    "## making the dataframe only the index (i.e. just the words)\n",
    "stop_phrases2 = stop_phrases.drop(labels=['asoiaf freq', \n",
    "                                          'gameofthrones freq', \n",
    "                                          'asoiaf_scaled', \n",
    "                                          'got_scaled', \n",
    "                                          'scaled_diff'], \n",
    "                                 axis=1)\n",
    "stop_phrases2.head()"
   ]
  },
  {
   "cell_type": "code",
   "execution_count": 27,
   "metadata": {},
   "outputs": [],
   "source": [
    "## setting our list of stop_phrases to a csv, so we can turn them into a list\n",
    "## we will later use this list in our model hypertuning\n",
    "stop_phrases2.to_csv('stop_list.csv', index=True) "
   ]
  },
  {
   "cell_type": "code",
   "execution_count": 29,
   "metadata": {},
   "outputs": [
    {
     "data": {
      "text/html": [
       "\n",
       "        <iframe\n",
       "            width=\"1400\"\n",
       "            height=\"1000\"\n",
       "            src=\"ASOIAF_GoT_Scattertext_Scale.html\"\n",
       "            frameborder=\"0\"\n",
       "            allowfullscreen\n",
       "        ></iframe>\n",
       "        "
      ],
      "text/plain": [
       "<IPython.lib.display.IFrame at 0x1a6d607d30>"
      ]
     },
     "execution_count": 29,
     "metadata": {},
     "output_type": "execute_result"
    }
   ],
   "source": [
    "## creating an html 'scattertext' based on scaled data\n",
    "## code is from scattertext's creator, Jason Kessler\n",
    "html = produce_scattertext_explorer(corpus,\n",
    "                                    category='asoiaf',\n",
    "                                    category_name='ASOIAF',\n",
    "                                    not_category_name='Game of Thrones',\n",
    "                                    width_in_pixels=1200,\n",
    "                                    show_characteristic = False,\n",
    "                                    minimum_term_frequency=5,\n",
    "                                   )\n",
    "file_name = './data/ASOIAF_GoT_Scattertext_Scale.html'  ## saving html file\n",
    "open(file_name, 'wb').write(html.encode('utf-8'))  ## pulling file from scattertext library\n",
    "IFrame(src=file_name, width = 1400, height=1000)  ## using Iframe to display our file"
   ]
  },
  {
   "cell_type": "code",
   "execution_count": 30,
   "metadata": {},
   "outputs": [
    {
     "data": {
      "text/html": [
       "\n",
       "        <iframe\n",
       "            width=\"1400\"\n",
       "            height=\"1000\"\n",
       "            src=\"ASOIAF_GoT_Scattertext_Log.html\"\n",
       "            frameborder=\"0\"\n",
       "            allowfullscreen\n",
       "        ></iframe>\n",
       "        "
      ],
      "text/plain": [
       "<IPython.lib.display.IFrame at 0x1a56efee10>"
      ]
     },
     "execution_count": 30,
     "metadata": {},
     "output_type": "execute_result"
    }
   ],
   "source": [
    "## creating an html 'scattertext' based on scaled data\n",
    "## code is from scattertext's creator, Jason Kessler\n",
    "html = produce_scattertext_explorer(corpus,\n",
    "                                    category='asoiaf',\n",
    "                                    category_name='ASOIAF',\n",
    "                                    not_category_name='Game of Thrones',\n",
    "                                    width_in_pixels=1200,\n",
    "                                    minimum_term_frequency=5,\n",
    "                                    show_characteristic = False,\n",
    "                                    transform=st.Scalers.log_scale_standardize\n",
    "                                   )\n",
    "file_name = './data/ASOIAF_GoT_Scattertext_Log.html'\n",
    "open(file_name, 'wb').write(html.encode('utf-8'))\n",
    "IFrame(src=file_name, width = 1400, height=1000)"
   ]
  },
  {
   "cell_type": "markdown",
   "metadata": {},
   "source": [
    "###### Export to CSV"
   ]
  },
  {
   "cell_type": "code",
   "execution_count": 31,
   "metadata": {},
   "outputs": [],
   "source": [
    "data.to_csv('unique_data.csv', index=False)"
   ]
  },
  {
   "cell_type": "code",
   "execution_count": null,
   "metadata": {},
   "outputs": [],
   "source": []
  }
 ],
 "metadata": {
  "kernelspec": {
   "display_name": "Python 3",
   "language": "python",
   "name": "python3"
  },
  "language_info": {
   "codemirror_mode": {
    "name": "ipython",
    "version": 3
   },
   "file_extension": ".py",
   "mimetype": "text/x-python",
   "name": "python",
   "nbconvert_exporter": "python",
   "pygments_lexer": "ipython3",
   "version": "3.7.3"
  }
 },
 "nbformat": 4,
 "nbformat_minor": 2
}
